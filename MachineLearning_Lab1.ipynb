{
  "nbformat": 4,
  "nbformat_minor": 0,
  "metadata": {
    "colab": {
      "provenance": [],
      "authorship_tag": "ABX9TyPyQoLy8pFXTQhSOWXZ1Teo",
      "include_colab_link": true
    },
    "kernelspec": {
      "name": "python3",
      "display_name": "Python 3"
    },
    "language_info": {
      "name": "python"
    }
  },
  "cells": [
    {
      "cell_type": "markdown",
      "metadata": {
        "id": "view-in-github",
        "colab_type": "text"
      },
      "source": [
        "<a href=\"https://colab.research.google.com/github/Sriya777/Machine-Learning-Practice-Sheet-/blob/main/MachineLearning_Lab1.ipynb\" target=\"_parent\"><img src=\"https://colab.research.google.com/assets/colab-badge.svg\" alt=\"Open In Colab\"/></a>"
      ]
    },
    {
      "cell_type": "markdown",
      "source": [
        "Sriya Nistala\n",
        "\n",
        "BL.EN.U4AIE23034\n",
        "\n",
        "Machine Learning Lab 2"
      ],
      "metadata": {
        "id": "4c4751RBSfuH"
      }
    },
    {
      "cell_type": "code",
      "execution_count": 4,
      "metadata": {
        "colab": {
          "base_uri": "https://localhost:8080/"
        },
        "id": "C5gIM3N6SUsO",
        "outputId": "5cfe0128-78ad-46cc-d0fe-43f0e1e1337b"
      },
      "outputs": [
        {
          "output_type": "stream",
          "name": "stdout",
          "text": [
            "Enter the string :Hello World\n",
            "The number of vowels are : 3\n",
            "The number of vowels are : 7\n"
          ]
        }
      ],
      "source": [
        "#define a function to count the vowles and consonants\n",
        "def count_vowels_and_consonants(input_string):\n",
        "#initialize the vowels\n",
        "    vowels = \"aeiouAEIOU\"\n",
        "\n",
        "    vowels_count = 0\n",
        "    consonants_count = 0\n",
        "\n",
        "    for char in input_string:\n",
        "        if char.isalpha():\n",
        "            if char in vowels:\n",
        "                vowels_count += 1\n",
        "            else:\n",
        "                consonants_count += 1\n",
        "    return vowels_count , consonants_count\n",
        "\n",
        "input_string = input(\"Enter the string :\")\n",
        "vowels, consonants =  count_vowels_and_consonants(input_string)\n",
        "\n",
        "print(f\"The number of vowels are : {vowels}\")\n",
        "print(f\"The number of vowels are : {consonants}\")"
      ]
    },
    {
      "cell_type": "markdown",
      "source": [
        "Q2"
      ],
      "metadata": {
        "id": "dlCwrSkU8fzr"
      }
    },
    {
      "cell_type": "code",
      "source": [
        "def matrix_multiplication(A, B):\n",
        "\n",
        "    try:\n",
        "        # Checking if A and B can be multiplied\n",
        "        if len(A[0]) != len(B):\n",
        "            return \"Error: Number of columns in A must be equal to number of rows in B.\"\n",
        "\n",
        "        # Initialize the result matrix with zeros\n",
        "        result = [[0 for _ in range(len(B[0]))] for _ in range(len(A))]\n",
        "\n",
        "        # Perform matrix multiplication\n",
        "        for i in range(len(A)):\n",
        "            for j in range(len(B[0])):\n",
        "                for k in range(len(B)):\n",
        "                    result[i][j] += A[i][k] * B[k][j]\n",
        "\n",
        "        return result\n",
        "    except Exception as e:\n",
        "        return f\"An unexpected error occurred: {str(e)}\"\n",
        "\n",
        "\n",
        "A = [[1, 2, 3], [4, 5, 6]]\n",
        "B = [[7, 8], [9, 10], [11, 12]]\n",
        "\n",
        "result = matrix_multiplication(A, B)\n",
        "if isinstance(result, str):\n",
        "    print(result)\n",
        "else:\n",
        "    print(\"Product of matrices A and B:\")\n",
        "    for row in result:\n",
        "        print(row)"
      ],
      "metadata": {
        "id": "PQQE81y68kF1",
        "colab": {
          "base_uri": "https://localhost:8080/"
        },
        "outputId": "6e18f11a-8e0e-43ad-c6d3-8d556425ac80"
      },
      "execution_count": 1,
      "outputs": [
        {
          "output_type": "stream",
          "name": "stdout",
          "text": [
            "Product of matrices A and B:\n",
            "[58, 64]\n",
            "[139, 154]\n"
          ]
        }
      ]
    },
    {
      "cell_type": "markdown",
      "source": [
        "Q3"
      ],
      "metadata": {
        "id": "tj0HZySm8lJ0"
      }
    },
    {
      "cell_type": "code",
      "source": [
        "def find_common_elements(List1, List2):\n",
        "  try:\n",
        "    if not isinstance(List1,list) or not isinstance(List2,list):\n",
        "      raise TypeError(\"Both inputs must be lists.\")\n",
        "    set1 = set(list1)\n",
        "    set2 = set(list2)\n",
        "    common_elements = set1.intersection(set2)\n",
        "    return list(common_elements)\n",
        "  except Exception as e:\n",
        "    return f\"An unexpected error occurred: {str(e)}\"\n",
        "if __name__ == \"__main__\":\n",
        "  list1 = [1, 2, 3, 4, 5]\n",
        "  list2 = [4, 5, 6, 7, 8]\n",
        "  result = find_common_elements(list1, list2)\n",
        "  if result is not None:\n",
        "    print(f\"The number of common elementa is : {result}\")"
      ],
      "metadata": {
        "id": "-Vb5rTy98mv7",
        "colab": {
          "base_uri": "https://localhost:8080/"
        },
        "outputId": "c88f9f57-0cdb-4727-eef2-880b01005eaa"
      },
      "execution_count": 3,
      "outputs": [
        {
          "output_type": "stream",
          "name": "stdout",
          "text": [
            "The number of common elementa is : [4, 5]\n"
          ]
        }
      ]
    },
    {
      "cell_type": "markdown",
      "source": [
        "Q4"
      ],
      "metadata": {
        "id": "P0kTEGBy8nRw"
      }
    },
    {
      "cell_type": "code",
      "source": [
        "def input_matrix_transpose():\n",
        "  try:\n",
        "    rows = int(input(\"Enter the number of rows of the matrix :\"))\n",
        "    columns = int(input(\"Enter the number of columns of the matrix :\"))\n",
        "    if rows <= 0 or columns <= 0:\n",
        "      raise ValueError(\"Number of rows and columns must be positive integers.\")\n",
        "\n",
        "#create the matrix by inputting the elements for each row and columns\n",
        "matrix = [[int(input(f'column {j+1} -> Enter {i+1} element:'))\n",
        "           for j in range(columns)] for i in range(rows)]\n",
        "\n",
        "#create a list for transpose to storethe result\n",
        "transpose = [[0 for i in range(rows)] for j in range(columns)]\n",
        "\n",
        "print()\n",
        "\n",
        "#the entered matrix is given by the rows value i\n",
        "print('The resultant matrix is :')\n",
        "for i in matrix:\n",
        "    print(i)\n",
        "\n",
        "for i in range(rows):\n",
        "    for j in range(columns):\n",
        "        transpose [j][i] = matrix [i][j]\n",
        "\n",
        "print()\n",
        "\n",
        "#the transpose of the matrix\n",
        "print('The transpose of the matrix is :')\n",
        "for i in transpose:\n",
        "    print(i)"
      ],
      "metadata": {
        "id": "8Mi17Q318oRk",
        "colab": {
          "base_uri": "https://localhost:8080/"
        },
        "outputId": "58dda1c0-6e60-45ce-cead-775636fedd64"
      },
      "execution_count": 2,
      "outputs": [
        {
          "output_type": "stream",
          "name": "stdout",
          "text": [
            "Enter the number of rows of the matrix :2\n",
            "Enter the number of columns of the matrix :2\n",
            "column 1 -> Enter 1 element:4\n",
            "column 2 -> Enter 1 element:3\n",
            "column 1 -> Enter 2 element:6\n",
            "column 2 -> Enter 2 element:2\n",
            "\n",
            "The resultant matrix is :\n",
            "[4, 3]\n",
            "[6, 2]\n",
            "\n",
            "The transpose of the matrix is :\n",
            "[4, 6]\n",
            "[3, 2]\n"
          ]
        }
      ]
    }
  ]
}